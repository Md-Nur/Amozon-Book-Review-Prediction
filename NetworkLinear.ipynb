{
  "nbformat": 4,
  "nbformat_minor": 0,
  "metadata": {
    "colab": {
      "name": "NetworkLinear.ipynb",
      "private_outputs": true,
      "provenance": [],
      "authorship_tag": "ABX9TyMiFADs39GElHQ3uPBfo5xO",
      "include_colab_link": true
    },
    "kernelspec": {
      "name": "python3",
      "display_name": "Python 3"
    },
    "language_info": {
      "name": "python"
    },
    "accelerator": "GPU"
  },
  "cells": [
    {
      "cell_type": "markdown",
      "metadata": {
        "id": "view-in-github",
        "colab_type": "text"
      },
      "source": [
        "<a href=\"https://colab.research.google.com/github/Md-Nur/Amozon-Book-Review-Prediction/blob/master/NetworkLinear.ipynb\" target=\"_parent\"><img src=\"https://colab.research.google.com/assets/colab-badge.svg\" alt=\"Open In Colab\"/></a>"
      ]
    },
    {
      "cell_type": "code",
      "metadata": {
        "id": "r8LJgwiflC7j"
      },
      "source": [
        "# Testing in colab\n",
        "\n",
        "%tensorflow_version 2.x\n",
        "import tensorflow as tf\n",
        "device_name = tf.test.gpu_device_name()\n",
        "if device_name != '/device:GPU:0':\n",
        "  raise SystemError('GPU device not found')\n",
        "print('Found GPU at: {}'.format(device_name))"
      ],
      "execution_count": null,
      "outputs": []
    },
    {
      "cell_type": "code",
      "metadata": {
        "id": "LTeecopaUxgI"
      },
      "source": [
        "import tensorflow as tf\n",
        "from tensorflow import keras\n",
        "\n",
        "import pandas as pd\n",
        "import numpy as np\n",
        "from tensorflow.keras import layers\n",
        "from tensorflow.python.keras.engine.base_layer import InputSpec\n",
        "from tensorflow.python.keras.layers.core import Dense\n"
      ],
      "execution_count": null,
      "outputs": []
    },
    {
      "cell_type": "code",
      "metadata": {
        "id": "cfkugblwU73N"
      },
      "source": [
        "\n",
        "# trainDf = pd.read_csv('KeithGalli\\examples\\linear\\data\\\\train.csv')\n",
        "trainDf = pd.read_csv('train.csv')\n",
        "print(trainDf.head())\n",
        "np.random.shuffle(trainDf.x.values)\n",
        "print(trainDf.head())\n",
        "\n",
        "\n",
        "print(trainDf.x.values[:5])\n",
        "print(type(trainDf.x.values[:5]))\n"
      ],
      "execution_count": null,
      "outputs": []
    },
    {
      "cell_type": "code",
      "metadata": {
        "id": "VoLrSRXcU-1J"
      },
      "source": [
        "\n",
        "model = keras.Sequential(\n",
        "    [\n",
        "        keras.layers.Dense(4, input_shape=(2,), activation='relu'),\n",
        "        keras.layers.Dense(2,activation='sigmoid')\n",
        "    ]\n",
        ")\n",
        "\n",
        "model.compile(optimizer='adam', \n",
        "\t          loss=keras.losses.SparseCategoricalCrossentropy(from_logits=True),\n",
        "\t          metrics=['accuracy'])\n",
        "x = np.column_stack((trainDf.x.values, trainDf.y.values))\n",
        "model.fit(x,trainDf.color.values, batch_size=4, epochs=5)\n"
      ],
      "execution_count": null,
      "outputs": []
    },
    {
      "cell_type": "code",
      "metadata": {
        "id": "IyEiCrzeWCCc"
      },
      "source": [
        "testDf = pd.read_csv('test.csv')\n",
        "testX = np.column_stack((testDf.x.values,testDf.y.values))"
      ],
      "execution_count": null,
      "outputs": []
    },
    {
      "cell_type": "code",
      "metadata": {
        "id": "TPLkOdMTi6sM"
      },
      "source": [
        "print('Evalutaion')\n",
        "model.evaluate(testX,testDf.color.values)"
      ],
      "execution_count": null,
      "outputs": []
    },
    {
      "cell_type": "code",
      "metadata": {
        "id": "MWs7AWfBjaPk"
      },
      "source": [
        ""
      ],
      "execution_count": null,
      "outputs": []
    },
    {
      "cell_type": "code",
      "metadata": {
        "id": "n73KIZo4kw0E"
      },
      "source": [
        ""
      ],
      "execution_count": null,
      "outputs": []
    }
  ]
}